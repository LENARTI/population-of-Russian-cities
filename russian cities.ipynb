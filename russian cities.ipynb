{
 "cells": [
  {
   "cell_type": "code",
   "execution_count": 1,
   "metadata": {},
   "outputs": [],
   "source": [
    "import wikipedia\n",
    "wikipedia.set_lang('ru')"
   ]
  },
  {
   "cell_type": "code",
   "execution_count": 2,
   "metadata": {},
   "outputs": [],
   "source": [
    "url = wikipedia.page('Список городов России').url"
   ]
  },
  {
   "cell_type": "markdown",
   "metadata": {},
   "source": [
    "Парсим страницу Википедии со списком всех городов Росии"
   ]
  },
  {
   "cell_type": "code",
   "execution_count": 3,
   "metadata": {},
   "outputs": [],
   "source": [
    "import requests\n",
    "from bs4 import BeautifulSoup\n",
    "from tqdm.notebook import tqdm\n",
    "import pandas as pd\n",
    "import re\n",
    "import pickle"
   ]
  },
  {
   "cell_type": "code",
   "execution_count": 4,
   "metadata": {},
   "outputs": [
    {
     "name": "stdout",
     "output_type": "stream",
     "text": [
      "<!DOCTYPE html>\n",
      "<html class=\"client-nojs\" dir=\"ltr\" lang=\"ru\">\n",
      " <head>\n",
      "  <meta charset=\"utf-8\"/>\n",
      "  \n"
     ]
    }
   ],
   "source": [
    "gen_page = requests.get(url)\n",
    "soup = BeautifulSoup(gen_page.text,'lxml')\n",
    "print(soup.prettify()[0:99])"
   ]
  },
  {
   "cell_type": "code",
   "execution_count": 5,
   "metadata": {},
   "outputs": [],
   "source": [
    "tabel = soup.find('table', {'class':'standard sortable'})\n",
    "data = {}\n",
    "t = '1'\n",
    "for i in tabel.find_all('a'):\n",
    "    \n",
    "    title = i.get('title')\n",
    "    link = i.get('href')\n",
    "    \n",
    "    if t == '':\n",
    "        title = re.sub(r'\\([^\\)]+\\)', '', title).rstrip()\n",
    "        data[title] = link\n",
    "    t = i.text"
   ]
  },
  {
   "cell_type": "code",
   "execution_count": 6,
   "metadata": {},
   "outputs": [],
   "source": [
    "# создание выборки для тестирования работы алгоритма\n",
    "#simple_data = {}\n",
    "\n",
    "#for n, l in tqdm(data.items()):\n",
    "#    simple_data[n] = l\n",
    "#    if len(simple_data) > 15:\n",
    "#        break\n",
    "#data = simple_data\n",
    "#print(len(data))"
   ]
  },
  {
   "cell_type": "code",
   "execution_count": 7,
   "metadata": {},
   "outputs": [],
   "source": [
    "#функция для получения данных о населении и принадлежности города к субъекту РФ\n",
    "def get_features(url):\n",
    "    url_city = 'https://ru.wikipedia.org' + url\n",
    "    soup1 = BeautifulSoup(requests.get(url_city).text,'lxml')\n",
    "    years = []\n",
    "    pops = []\n",
    "    population = soup1.find_all('table', {'class':'standard'})\n",
    "   \n",
    "    if len(population) > 1:\n",
    "        for i in range(len(population)):\n",
    "            try:\n",
    "                p = population[i].find('th').text\n",
    "            except:\n",
    "                continue\n",
    "            if p == 'Численность населения':\n",
    "                population = population[i]\n",
    "                break\n",
    "    else:\n",
    "        population = population[0]\n",
    "        \n",
    "    \n",
    "    for i in population.find_all('th'):\n",
    "        year = i.text[:4]\n",
    "        if year.isdigit() == True:\n",
    "            years.append(year)\n",
    "        \n",
    "    for i in population.find_all('td'):\n",
    "        pop = ''.join([x for x in i.text if x.isdigit()])\n",
    "        if pop != '':\n",
    "            pops.append(int(pop))\n",
    "    \n",
    "    feats_city = dict(zip(years, pops))\n",
    "    other_data = soup1.find('table', {'class':'infobox vcard'})\n",
    "    \n",
    "    if type(other_data) == type(None):\n",
    "        return feats_city\n",
    "\n",
    "    feat = []\n",
    "    val = []\n",
    "    \n",
    "    for i in other_data.find_all('th'):\n",
    "        feat.append(i.text)\n",
    "    \n",
    "    for i in other_data.find_all('td'):\n",
    "        d = ''.join([line.lstrip('\\n\\xa0') for line in i.text])\n",
    "        val.append(d)\n",
    "\n",
    "    sub_f, sub_v = [], []\n",
    "    \n",
    "    for i in range(len(feat)):\n",
    "        if feat[i] == 'Страна':\n",
    "            sub_f = feat[i:i+4]\n",
    "            break\n",
    "            \n",
    "    for i in range(len(val)):\n",
    "        if val[i] == 'Россия':\n",
    "            sub_v = val[i:i+4]\n",
    "            break\n",
    "            \n",
    "    for f, v in zip(sub_f, sub_v):\n",
    "        if f == 'Субъект Федерации':\n",
    "            feats_city[f] = v\n",
    "       \n",
    "    return feats_city"
   ]
  },
  {
   "cell_type": "code",
   "execution_count": 8,
   "metadata": {},
   "outputs": [
    {
     "data": {
      "application/vnd.jupyter.widget-view+json": {
       "model_id": "c494449208c5486aa14a73abd973234d",
       "version_major": 2,
       "version_minor": 0
      },
      "text/plain": [
       "HBox(children=(FloatProgress(value=0.0, max=1097.0), HTML(value='')))"
      ]
     },
     "metadata": {},
     "output_type": "display_data"
    },
    {
     "name": "stdout",
     "output_type": "stream",
     "text": [
      "Санкт-Петербург <class 'type'>\n",
      "Тольятти <class 'type'>\n",
      "Электроугли <class 'type'>\n",
      "\n"
     ]
    }
   ],
   "source": [
    "df = {}\n",
    "err = []\n",
    "for n, l in tqdm(data.items()):\n",
    "    try:\n",
    "        df[n] = get_features(l)\n",
    "    except Exception:\n",
    "        err.append(n)\n",
    "        print(n, Exception.__class__)\n",
    "        "
   ]
  },
  {
   "cell_type": "markdown",
   "metadata": {},
   "source": [
    "Данные по населению Москвы и Санкт-Петербурга представлены на отдельных страницах"
   ]
  },
  {
   "cell_type": "code",
   "execution_count": 9,
   "metadata": {},
   "outputs": [
    {
     "data": {
      "application/vnd.jupyter.widget-view+json": {
       "model_id": "3111ce233f4f48e99ddf5d6a16470843",
       "version_major": 2,
       "version_minor": 0
      },
      "text/plain": [
       "HBox(children=(FloatProgress(value=0.0, max=2.0), HTML(value='')))"
      ]
     },
     "metadata": {},
     "output_type": "display_data"
    },
    {
     "name": "stdout",
     "output_type": "stream",
     "text": [
      "\n"
     ]
    }
   ],
   "source": [
    "splash = {'Москва':'/wiki/Население_Москвы',\n",
    "          'Санкт-Петербург':'/wiki/Население_Санкт-Петербурга'\n",
    "         }\n",
    "\n",
    "splash_df = {}\n",
    "\n",
    "for n, l in tqdm(splash.items()):\n",
    "    try:\n",
    "        splash_df[n] = get_features(l)\n",
    "    except Exception:\n",
    "        err.append(n)\n",
    "        print(n, Exception.__class__)\n",
    "        \n",
    "splash_df['Москва']['Субъект Федерации'] = 'Москва'\n",
    "splash_df['Санкт-Петербург']['Субъект Федерации'] = 'Санкт-Петербург'\n",
    "        \n",
    "df.update(splash_df)\n"
   ]
  },
  {
   "cell_type": "code",
   "execution_count": 23,
   "metadata": {},
   "outputs": [],
   "source": [
    "frame = pd.DataFrame.from_dict(df, orient='index')"
   ]
  },
  {
   "cell_type": "code",
   "execution_count": 24,
   "metadata": {},
   "outputs": [
    {
     "data": {
      "text/html": [
       "<div>\n",
       "<style scoped>\n",
       "    .dataframe tbody tr th:only-of-type {\n",
       "        vertical-align: middle;\n",
       "    }\n",
       "\n",
       "    .dataframe tbody tr th {\n",
       "        vertical-align: top;\n",
       "    }\n",
       "\n",
       "    .dataframe thead th {\n",
       "        text-align: right;\n",
       "    }\n",
       "</style>\n",
       "<table border=\"1\" class=\"dataframe\">\n",
       "  <thead>\n",
       "    <tr style=\"text-align: right;\">\n",
       "      <th></th>\n",
       "      <th>1959</th>\n",
       "      <th>1970</th>\n",
       "      <th>1979</th>\n",
       "      <th>1989</th>\n",
       "      <th>1996</th>\n",
       "      <th>1998</th>\n",
       "      <th>2000</th>\n",
       "      <th>2001</th>\n",
       "      <th>2002</th>\n",
       "      <th>2003</th>\n",
       "      <th>...</th>\n",
       "      <th>1695</th>\n",
       "      <th>1650</th>\n",
       "      <th>1625</th>\n",
       "      <th>1827</th>\n",
       "      <th>1846</th>\n",
       "      <th>1951</th>\n",
       "      <th>1632</th>\n",
       "      <th>1955</th>\n",
       "      <th>1765</th>\n",
       "      <th>1919</th>\n",
       "    </tr>\n",
       "  </thead>\n",
       "  <tbody>\n",
       "    <tr>\n",
       "      <th>Абаза</th>\n",
       "      <td>11646.0</td>\n",
       "      <td>15202.0</td>\n",
       "      <td>15818.0</td>\n",
       "      <td>17630.0</td>\n",
       "      <td>18500.0</td>\n",
       "      <td>18600.0</td>\n",
       "      <td>18700.0</td>\n",
       "      <td>18700.0</td>\n",
       "      <td>18052.0</td>\n",
       "      <td>18000.0</td>\n",
       "      <td>...</td>\n",
       "      <td>NaN</td>\n",
       "      <td>NaN</td>\n",
       "      <td>NaN</td>\n",
       "      <td>NaN</td>\n",
       "      <td>NaN</td>\n",
       "      <td>NaN</td>\n",
       "      <td>NaN</td>\n",
       "      <td>NaN</td>\n",
       "      <td>NaN</td>\n",
       "      <td>NaN</td>\n",
       "    </tr>\n",
       "    <tr>\n",
       "      <th>Абакан</th>\n",
       "      <td>56416.0</td>\n",
       "      <td>90136.0</td>\n",
       "      <td>128311.0</td>\n",
       "      <td>154092.0</td>\n",
       "      <td>162000.0</td>\n",
       "      <td>167000.0</td>\n",
       "      <td>169200.0</td>\n",
       "      <td>167900.0</td>\n",
       "      <td>165197.0</td>\n",
       "      <td>165200.0</td>\n",
       "      <td>...</td>\n",
       "      <td>NaN</td>\n",
       "      <td>NaN</td>\n",
       "      <td>NaN</td>\n",
       "      <td>NaN</td>\n",
       "      <td>NaN</td>\n",
       "      <td>NaN</td>\n",
       "      <td>NaN</td>\n",
       "      <td>NaN</td>\n",
       "      <td>NaN</td>\n",
       "      <td>NaN</td>\n",
       "    </tr>\n",
       "    <tr>\n",
       "      <th>Абдулино</th>\n",
       "      <td>29976.0</td>\n",
       "      <td>26010.0</td>\n",
       "      <td>23054.0</td>\n",
       "      <td>22639.0</td>\n",
       "      <td>23600.0</td>\n",
       "      <td>23900.0</td>\n",
       "      <td>NaN</td>\n",
       "      <td>24000.0</td>\n",
       "      <td>21537.0</td>\n",
       "      <td>21500.0</td>\n",
       "      <td>...</td>\n",
       "      <td>NaN</td>\n",
       "      <td>NaN</td>\n",
       "      <td>NaN</td>\n",
       "      <td>NaN</td>\n",
       "      <td>NaN</td>\n",
       "      <td>NaN</td>\n",
       "      <td>NaN</td>\n",
       "      <td>NaN</td>\n",
       "      <td>NaN</td>\n",
       "      <td>NaN</td>\n",
       "    </tr>\n",
       "    <tr>\n",
       "      <th>Абинск</th>\n",
       "      <td>14750.0</td>\n",
       "      <td>21222.0</td>\n",
       "      <td>25251.0</td>\n",
       "      <td>29182.0</td>\n",
       "      <td>34100.0</td>\n",
       "      <td>34500.0</td>\n",
       "      <td>34900.0</td>\n",
       "      <td>35000.0</td>\n",
       "      <td>33734.0</td>\n",
       "      <td>33700.0</td>\n",
       "      <td>...</td>\n",
       "      <td>NaN</td>\n",
       "      <td>NaN</td>\n",
       "      <td>NaN</td>\n",
       "      <td>NaN</td>\n",
       "      <td>NaN</td>\n",
       "      <td>NaN</td>\n",
       "      <td>NaN</td>\n",
       "      <td>NaN</td>\n",
       "      <td>NaN</td>\n",
       "      <td>NaN</td>\n",
       "    </tr>\n",
       "    <tr>\n",
       "      <th>Агрыз</th>\n",
       "      <td>20270.0</td>\n",
       "      <td>19267.0</td>\n",
       "      <td>20137.0</td>\n",
       "      <td>19732.0</td>\n",
       "      <td>19400.0</td>\n",
       "      <td>19800.0</td>\n",
       "      <td>NaN</td>\n",
       "      <td>NaN</td>\n",
       "      <td>18620.0</td>\n",
       "      <td>18600.0</td>\n",
       "      <td>...</td>\n",
       "      <td>NaN</td>\n",
       "      <td>NaN</td>\n",
       "      <td>NaN</td>\n",
       "      <td>NaN</td>\n",
       "      <td>NaN</td>\n",
       "      <td>NaN</td>\n",
       "      <td>NaN</td>\n",
       "      <td>NaN</td>\n",
       "      <td>NaN</td>\n",
       "      <td>NaN</td>\n",
       "    </tr>\n",
       "  </tbody>\n",
       "</table>\n",
       "<p>5 rows × 337 columns</p>\n",
       "</div>"
      ],
      "text/plain": [
       "             1959     1970      1979      1989      1996      1998      2000  \\\n",
       "Абаза     11646.0  15202.0   15818.0   17630.0   18500.0   18600.0   18700.0   \n",
       "Абакан    56416.0  90136.0  128311.0  154092.0  162000.0  167000.0  169200.0   \n",
       "Абдулино  29976.0  26010.0   23054.0   22639.0   23600.0   23900.0       NaN   \n",
       "Абинск    14750.0  21222.0   25251.0   29182.0   34100.0   34500.0   34900.0   \n",
       "Агрыз     20270.0  19267.0   20137.0   19732.0   19400.0   19800.0       NaN   \n",
       "\n",
       "              2001      2002      2003  ...  1695  1650  1625  1827  1846  \\\n",
       "Абаза      18700.0   18052.0   18000.0  ...   NaN   NaN   NaN   NaN   NaN   \n",
       "Абакан    167900.0  165197.0  165200.0  ...   NaN   NaN   NaN   NaN   NaN   \n",
       "Абдулино   24000.0   21537.0   21500.0  ...   NaN   NaN   NaN   NaN   NaN   \n",
       "Абинск     35000.0   33734.0   33700.0  ...   NaN   NaN   NaN   NaN   NaN   \n",
       "Агрыз          NaN   18620.0   18600.0  ...   NaN   NaN   NaN   NaN   NaN   \n",
       "\n",
       "          1951  1632  1955  1765  1919  \n",
       "Абаза      NaN   NaN   NaN   NaN   NaN  \n",
       "Абакан     NaN   NaN   NaN   NaN   NaN  \n",
       "Абдулино   NaN   NaN   NaN   NaN   NaN  \n",
       "Абинск     NaN   NaN   NaN   NaN   NaN  \n",
       "Агрыз      NaN   NaN   NaN   NaN   NaN  \n",
       "\n",
       "[5 rows x 337 columns]"
      ]
     },
     "execution_count": 24,
     "metadata": {},
     "output_type": "execute_result"
    }
   ],
   "source": [
    "frame.head()"
   ]
  },
  {
   "cell_type": "markdown",
   "metadata": {},
   "source": [
    "Удаляем города со спорной принадлежностью к РФ"
   ]
  },
  {
   "cell_type": "code",
   "execution_count": 25,
   "metadata": {},
   "outputs": [
    {
     "name": "stdout",
     "output_type": "stream",
     "text": [
      "Алупка             NaN\n",
      "Алушта             NaN\n",
      "Бахчисарай         NaN\n",
      "Белогорск          NaN\n",
      "Джанкой            NaN\n",
      "Евпатория          NaN\n",
      "Керчь              NaN\n",
      "Красноперекопск    NaN\n",
      "Курильск           NaN\n",
      "Нюрба              NaN\n",
      "Саки               NaN\n",
      "Севастополь        NaN\n",
      "Симферополь        NaN\n",
      "Старый Крым        NaN\n",
      "Судак              NaN\n",
      "Феодосия           NaN\n",
      "Ялта               NaN\n",
      "Армянск            NaN\n",
      "Щёлкино            NaN\n",
      "Name: Субъект Федерации, dtype: object\n"
     ]
    }
   ],
   "source": [
    "for_drop = frame[pd.isna(frame['Субъект Федерации']) == True]['Субъект Федерации']\n",
    "print(for_drop)\n",
    "frame.drop(for_drop.index, axis=0, inplace=True)"
   ]
  },
  {
   "cell_type": "code",
   "execution_count": 26,
   "metadata": {},
   "outputs": [
    {
     "data": {
      "text/plain": [
       "Index(['1959', '1970', '1979', '1989', '1996', '1998', '2000', '2001', '2002',\n",
       "       '2003',\n",
       "       ...\n",
       "       '1695', '1650', '1625', '1827', '1846', '1951', '1632', '1955', '1765',\n",
       "       '1919'],\n",
       "      dtype='object', length=337)"
      ]
     },
     "execution_count": 26,
     "metadata": {},
     "output_type": "execute_result"
    }
   ],
   "source": [
    "frame.columns"
   ]
  },
  {
   "cell_type": "markdown",
   "metadata": {},
   "source": [
    "Переводим название городов и субъектов РФ на английский язык"
   ]
  },
  {
   "cell_type": "code",
   "execution_count": 27,
   "metadata": {},
   "outputs": [],
   "source": [
    "#from googletrans import Translator\n",
    "#eng_names = []\n",
    "\n",
    "#for c in tqdm(frame.index):\n",
    "    \n",
    "#    translator = Translator(service_urls=[\n",
    "#      'translate.google.com',\n",
    "#      'translate.google.ru',\n",
    "#    ])\n",
    "#    eng = translator.translate(c, src='ru', dest='en').text\n",
    "#    eng_names.append(eng)\n",
    "#    print(c, eng)"
   ]
  },
  {
   "cell_type": "markdown",
   "metadata": {},
   "source": [
    "Google translater выдаёт ошибки при работе, а также не переводит некоторые названия. Для решения данной проблемы учтём, что перевод большинства населённых пунктов осуществляется на основании транслитерации."
   ]
  },
  {
   "cell_type": "code",
   "execution_count": 28,
   "metadata": {},
   "outputs": [],
   "source": [
    "rus_chars = [c.lower() for c in\n",
    "            ['А','Б','В','Г','Д','Е','Ё','Ж',\n",
    "             'З','И','Й','К','Л','М','Н','О',\n",
    "             'П','Р','С','Т','У','Ф','Х','Ц',\n",
    "             'Ч','Ш','Щ','Ъ','Ы','Ь','Э','Ю',\n",
    "             'Я', ' ','-']]\n",
    "eng_chars = [c.lower() for c in\n",
    "            ['A','B','V','G','D','E','E','ZH',\n",
    "             'Z','I','I','K','L','M','N','O',\n",
    "             'P','R','S','T','U','F','KH','TS',\n",
    "             'CH','SH','SHCH','\\\"','Y','\\'',\n",
    "             'E','IU','IA', ' ','-']]\n",
    "\n"
   ]
  },
  {
   "cell_type": "code",
   "execution_count": 29,
   "metadata": {},
   "outputs": [],
   "source": [
    "def translit(word):\n",
    "    if word == 'Москва':\n",
    "        return 'Мoscow'\n",
    "    if word == 'Санкт-Петербург':\n",
    "        return 'Saint-Petersburg'\n",
    "    \n",
    "    translit = []\n",
    "    for c in word.lower():\n",
    "        for r, e in zip(rus_chars, eng_chars):\n",
    "            if c==r:\n",
    "                translit.append(e)\n",
    "                break\n",
    "            #else:\n",
    "                #translit.append(c)\n",
    "                #break\n",
    "    return ''.join(translit).capitalize()"
   ]
  },
  {
   "cell_type": "code",
   "execution_count": 30,
   "metadata": {},
   "outputs": [
    {
     "data": {
      "application/vnd.jupyter.widget-view+json": {
       "model_id": "3071f49c844f4756a63f002b2b12b614",
       "version_major": 2,
       "version_minor": 0
      },
      "text/plain": [
       "HBox(children=(FloatProgress(value=0.0, max=1076.0), HTML(value='')))"
      ]
     },
     "metadata": {},
     "output_type": "display_data"
    },
    {
     "name": "stdout",
     "output_type": "stream",
     "text": [
      "\n"
     ]
    }
   ],
   "source": [
    "eng_names = []\n",
    "\n",
    "for c in tqdm(frame.index):\n",
    "    eng_names.append(translit(c))\n",
    "\n",
    "frame['City'] = eng_names"
   ]
  },
  {
   "cell_type": "code",
   "execution_count": 31,
   "metadata": {},
   "outputs": [
    {
     "data": {
      "application/vnd.jupyter.widget-view+json": {
       "model_id": "00c374be038941cdb33c7f96290a5a43",
       "version_major": 2,
       "version_minor": 0
      },
      "text/plain": [
       "HBox(children=(FloatProgress(value=0.0, max=1076.0), HTML(value='')))"
      ]
     },
     "metadata": {},
     "output_type": "display_data"
    },
    {
     "name": "stdout",
     "output_type": "stream",
     "text": [
      "\n"
     ]
    }
   ],
   "source": [
    "eng_reg = []\n",
    "\n",
    "for c in tqdm(frame['Субъект Федерации']):\n",
    "    eng_reg.append(translit(c))\n",
    "\n",
    "frame['Subject of Federation'] = eng_reg\n",
    "frame.drop(['Субъект Федерации'], axis=1, inplace=True)"
   ]
  },
  {
   "cell_type": "markdown",
   "metadata": {},
   "source": [
    "Сортируем признаки"
   ]
  },
  {
   "cell_type": "code",
   "execution_count": 34,
   "metadata": {},
   "outputs": [
    {
     "data": {
      "text/html": [
       "<div>\n",
       "<style scoped>\n",
       "    .dataframe tbody tr th:only-of-type {\n",
       "        vertical-align: middle;\n",
       "    }\n",
       "\n",
       "    .dataframe tbody tr th {\n",
       "        vertical-align: top;\n",
       "    }\n",
       "\n",
       "    .dataframe thead th {\n",
       "        text-align: right;\n",
       "    }\n",
       "</style>\n",
       "<table border=\"1\" class=\"dataframe\">\n",
       "  <thead>\n",
       "    <tr style=\"text-align: right;\">\n",
       "      <th></th>\n",
       "      <th>1350</th>\n",
       "      <th>1400</th>\n",
       "      <th>1550</th>\n",
       "      <th>1557</th>\n",
       "      <th>1562</th>\n",
       "      <th>1571</th>\n",
       "      <th>1574</th>\n",
       "      <th>1590</th>\n",
       "      <th>1594</th>\n",
       "      <th>1595</th>\n",
       "      <th>...</th>\n",
       "      <th>2013</th>\n",
       "      <th>2014</th>\n",
       "      <th>2015</th>\n",
       "      <th>2016</th>\n",
       "      <th>2017</th>\n",
       "      <th>2018</th>\n",
       "      <th>2019</th>\n",
       "      <th>2020</th>\n",
       "      <th>City</th>\n",
       "      <th>Subject of Federation</th>\n",
       "    </tr>\n",
       "  </thead>\n",
       "  <tbody>\n",
       "    <tr>\n",
       "      <th>Абаза</th>\n",
       "      <td>NaN</td>\n",
       "      <td>NaN</td>\n",
       "      <td>NaN</td>\n",
       "      <td>NaN</td>\n",
       "      <td>NaN</td>\n",
       "      <td>NaN</td>\n",
       "      <td>NaN</td>\n",
       "      <td>NaN</td>\n",
       "      <td>NaN</td>\n",
       "      <td>NaN</td>\n",
       "      <td>...</td>\n",
       "      <td>16491.0</td>\n",
       "      <td>16238.0</td>\n",
       "      <td>16009.0</td>\n",
       "      <td>15802.0</td>\n",
       "      <td>15592</td>\n",
       "      <td>15335.0</td>\n",
       "      <td>NaN</td>\n",
       "      <td>14990.0</td>\n",
       "      <td>Abaza</td>\n",
       "      <td>Khakasiia</td>\n",
       "    </tr>\n",
       "    <tr>\n",
       "      <th>Абакан</th>\n",
       "      <td>NaN</td>\n",
       "      <td>NaN</td>\n",
       "      <td>NaN</td>\n",
       "      <td>NaN</td>\n",
       "      <td>NaN</td>\n",
       "      <td>NaN</td>\n",
       "      <td>NaN</td>\n",
       "      <td>NaN</td>\n",
       "      <td>NaN</td>\n",
       "      <td>NaN</td>\n",
       "      <td>...</td>\n",
       "      <td>169760.0</td>\n",
       "      <td>173205.0</td>\n",
       "      <td>176212.0</td>\n",
       "      <td>179163.0</td>\n",
       "      <td>181709</td>\n",
       "      <td>184168.0</td>\n",
       "      <td>186201.0</td>\n",
       "      <td>186797.0</td>\n",
       "      <td>Abakan</td>\n",
       "      <td>Khakasiia</td>\n",
       "    </tr>\n",
       "    <tr>\n",
       "      <th>Абдулино</th>\n",
       "      <td>NaN</td>\n",
       "      <td>NaN</td>\n",
       "      <td>NaN</td>\n",
       "      <td>NaN</td>\n",
       "      <td>NaN</td>\n",
       "      <td>NaN</td>\n",
       "      <td>NaN</td>\n",
       "      <td>NaN</td>\n",
       "      <td>NaN</td>\n",
       "      <td>NaN</td>\n",
       "      <td>...</td>\n",
       "      <td>19687.0</td>\n",
       "      <td>19468.0</td>\n",
       "      <td>19353.0</td>\n",
       "      <td>19320.0</td>\n",
       "      <td>19222</td>\n",
       "      <td>19032.0</td>\n",
       "      <td>18768.0</td>\n",
       "      <td>18581.0</td>\n",
       "      <td>Abdulino</td>\n",
       "      <td>Orenburgskaia oblast'</td>\n",
       "    </tr>\n",
       "    <tr>\n",
       "      <th>Абинск</th>\n",
       "      <td>NaN</td>\n",
       "      <td>NaN</td>\n",
       "      <td>NaN</td>\n",
       "      <td>NaN</td>\n",
       "      <td>NaN</td>\n",
       "      <td>NaN</td>\n",
       "      <td>NaN</td>\n",
       "      <td>NaN</td>\n",
       "      <td>NaN</td>\n",
       "      <td>NaN</td>\n",
       "      <td>...</td>\n",
       "      <td>35921.0</td>\n",
       "      <td>36607.0</td>\n",
       "      <td>36986.0</td>\n",
       "      <td>37415.0</td>\n",
       "      <td>37749</td>\n",
       "      <td>38176.0</td>\n",
       "      <td>38547.0</td>\n",
       "      <td>39058.0</td>\n",
       "      <td>Abinsk</td>\n",
       "      <td>Krasnodarskii krai</td>\n",
       "    </tr>\n",
       "    <tr>\n",
       "      <th>Агрыз</th>\n",
       "      <td>NaN</td>\n",
       "      <td>NaN</td>\n",
       "      <td>NaN</td>\n",
       "      <td>NaN</td>\n",
       "      <td>NaN</td>\n",
       "      <td>NaN</td>\n",
       "      <td>NaN</td>\n",
       "      <td>NaN</td>\n",
       "      <td>NaN</td>\n",
       "      <td>NaN</td>\n",
       "      <td>...</td>\n",
       "      <td>19671.0</td>\n",
       "      <td>19778.0</td>\n",
       "      <td>19738.0</td>\n",
       "      <td>19739.0</td>\n",
       "      <td>19704</td>\n",
       "      <td>19774.0</td>\n",
       "      <td>19794.0</td>\n",
       "      <td>19721.0</td>\n",
       "      <td>Agryz</td>\n",
       "      <td>Tatarstan</td>\n",
       "    </tr>\n",
       "  </tbody>\n",
       "</table>\n",
       "<p>5 rows × 338 columns</p>\n",
       "</div>"
      ],
      "text/plain": [
       "          1350  1400  1550  1557  1562  1571  1574  1590  1594  1595  ...  \\\n",
       "Абаза      NaN   NaN   NaN   NaN   NaN   NaN   NaN   NaN   NaN   NaN  ...   \n",
       "Абакан     NaN   NaN   NaN   NaN   NaN   NaN   NaN   NaN   NaN   NaN  ...   \n",
       "Абдулино   NaN   NaN   NaN   NaN   NaN   NaN   NaN   NaN   NaN   NaN  ...   \n",
       "Абинск     NaN   NaN   NaN   NaN   NaN   NaN   NaN   NaN   NaN   NaN  ...   \n",
       "Агрыз      NaN   NaN   NaN   NaN   NaN   NaN   NaN   NaN   NaN   NaN  ...   \n",
       "\n",
       "              2013      2014      2015      2016    2017      2018      2019  \\\n",
       "Абаза      16491.0   16238.0   16009.0   15802.0   15592   15335.0       NaN   \n",
       "Абакан    169760.0  173205.0  176212.0  179163.0  181709  184168.0  186201.0   \n",
       "Абдулино   19687.0   19468.0   19353.0   19320.0   19222   19032.0   18768.0   \n",
       "Абинск     35921.0   36607.0   36986.0   37415.0   37749   38176.0   38547.0   \n",
       "Агрыз      19671.0   19778.0   19738.0   19739.0   19704   19774.0   19794.0   \n",
       "\n",
       "              2020      City  Subject of Federation  \n",
       "Абаза      14990.0     Abaza              Khakasiia  \n",
       "Абакан    186797.0    Abakan              Khakasiia  \n",
       "Абдулино   18581.0  Abdulino  Orenburgskaia oblast'  \n",
       "Абинск     39058.0    Abinsk     Krasnodarskii krai  \n",
       "Агрыз      19721.0     Agryz              Tatarstan  \n",
       "\n",
       "[5 rows x 338 columns]"
      ]
     },
     "execution_count": 34,
     "metadata": {},
     "output_type": "execute_result"
    }
   ],
   "source": [
    "frame = frame[sorted(frame.columns, key=lambda x: x)]\n",
    "frame.head()"
   ]
  },
  {
   "cell_type": "markdown",
   "metadata": {},
   "source": [
    "Проверяем на наличие данных с пропусками за последние 2018 и 2020 годы"
   ]
  },
  {
   "cell_type": "code",
   "execution_count": 35,
   "metadata": {
    "scrolled": true
   },
   "outputs": [
    {
     "name": "stderr",
     "output_type": "stream",
     "text": [
      "<ipython-input-35-f8d2901e9f70>:1: UserWarning: Boolean Series key will be reindexed to match DataFrame index.\n",
      "  frame[pd.isna(frame['2018']) == True][pd.isna(frame['2020']) == True].head(100)\n"
     ]
    },
    {
     "data": {
      "text/html": [
       "<div>\n",
       "<style scoped>\n",
       "    .dataframe tbody tr th:only-of-type {\n",
       "        vertical-align: middle;\n",
       "    }\n",
       "\n",
       "    .dataframe tbody tr th {\n",
       "        vertical-align: top;\n",
       "    }\n",
       "\n",
       "    .dataframe thead th {\n",
       "        text-align: right;\n",
       "    }\n",
       "</style>\n",
       "<table border=\"1\" class=\"dataframe\">\n",
       "  <thead>\n",
       "    <tr style=\"text-align: right;\">\n",
       "      <th></th>\n",
       "      <th>1350</th>\n",
       "      <th>1400</th>\n",
       "      <th>1550</th>\n",
       "      <th>1557</th>\n",
       "      <th>1562</th>\n",
       "      <th>1571</th>\n",
       "      <th>1574</th>\n",
       "      <th>1590</th>\n",
       "      <th>1594</th>\n",
       "      <th>1595</th>\n",
       "      <th>...</th>\n",
       "      <th>2013</th>\n",
       "      <th>2014</th>\n",
       "      <th>2015</th>\n",
       "      <th>2016</th>\n",
       "      <th>2017</th>\n",
       "      <th>2018</th>\n",
       "      <th>2019</th>\n",
       "      <th>2020</th>\n",
       "      <th>City</th>\n",
       "      <th>Subject of Federation</th>\n",
       "    </tr>\n",
       "  </thead>\n",
       "  <tbody>\n",
       "    <tr>\n",
       "      <th>Руза</th>\n",
       "      <td>NaN</td>\n",
       "      <td>NaN</td>\n",
       "      <td>NaN</td>\n",
       "      <td>NaN</td>\n",
       "      <td>NaN</td>\n",
       "      <td>NaN</td>\n",
       "      <td>NaN</td>\n",
       "      <td>NaN</td>\n",
       "      <td>NaN</td>\n",
       "      <td>NaN</td>\n",
       "      <td>...</td>\n",
       "      <td>13733.0</td>\n",
       "      <td>13554.0</td>\n",
       "      <td>13419.0</td>\n",
       "      <td>13393.0</td>\n",
       "      <td>13403</td>\n",
       "      <td>NaN</td>\n",
       "      <td>NaN</td>\n",
       "      <td>NaN</td>\n",
       "      <td>Ruza</td>\n",
       "      <td>Moskovskaia oblast'</td>\n",
       "    </tr>\n",
       "  </tbody>\n",
       "</table>\n",
       "<p>1 rows × 338 columns</p>\n",
       "</div>"
      ],
      "text/plain": [
       "      1350  1400  1550  1557  1562  1571  1574  1590  1594  1595  ...  \\\n",
       "Руза   NaN   NaN   NaN   NaN   NaN   NaN   NaN   NaN   NaN   NaN  ...   \n",
       "\n",
       "         2013     2014     2015     2016   2017  2018  2019  2020  City  \\\n",
       "Руза  13733.0  13554.0  13419.0  13393.0  13403   NaN   NaN   NaN  Ruza   \n",
       "\n",
       "      Subject of Federation  \n",
       "Руза    Moskovskaia oblast'  \n",
       "\n",
       "[1 rows x 338 columns]"
      ]
     },
     "execution_count": 35,
     "metadata": {},
     "output_type": "execute_result"
    }
   ],
   "source": [
    "frame[pd.isna(frame['2018']) == True][pd.isna(frame['2020']) == True].head(100)"
   ]
  },
  {
   "cell_type": "markdown",
   "metadata": {},
   "source": [
    "Cохраняем данные"
   ]
  },
  {
   "cell_type": "code",
   "execution_count": 36,
   "metadata": {},
   "outputs": [],
   "source": [
    "def csv_writer(data, name):\n",
    "    data.to_csv(name, index=False)\n",
    "csv_writer(frame, 'population_of_the_Russian_cities.csv')"
   ]
  },
  {
   "cell_type": "code",
   "execution_count": 37,
   "metadata": {},
   "outputs": [],
   "source": [
    "with open('dictionary with links.pickle', 'wb') as f:\n",
    "    pickle.dump(data, f)"
   ]
  }
 ],
 "metadata": {
  "kernelspec": {
   "display_name": "Python 3",
   "language": "python",
   "name": "python3"
  },
  "language_info": {
   "codemirror_mode": {
    "name": "ipython",
    "version": 3
   },
   "file_extension": ".py",
   "mimetype": "text/x-python",
   "name": "python",
   "nbconvert_exporter": "python",
   "pygments_lexer": "ipython3",
   "version": "3.8.3"
  }
 },
 "nbformat": 4,
 "nbformat_minor": 4
}
